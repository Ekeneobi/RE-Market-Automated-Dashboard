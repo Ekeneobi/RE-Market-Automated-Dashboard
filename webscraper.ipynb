{
  "nbformat": 4,
  "nbformat_minor": 0,
  "metadata": {
    "colab": {
      "provenance": [],
      "authorship_tag": "ABX9TyNcILCNC7UZqjLfZqMTzOGa",
      "include_colab_link": true
    },
    "kernelspec": {
      "name": "python3",
      "display_name": "Python 3"
    },
    "language_info": {
      "name": "python"
    }
  },
  "cells": [
    {
      "cell_type": "markdown",
      "metadata": {
        "id": "view-in-github",
        "colab_type": "text"
      },
      "source": [
        "<a href=\"https://colab.research.google.com/github/Ekeneobi/RE-Market-Automated-Dashboard/blob/main/webscraper.ipynb\" target=\"_parent\"><img src=\"https://colab.research.google.com/assets/colab-badge.svg\" alt=\"Open In Colab\"/></a>"
      ]
    },
    {
      "cell_type": "code",
      "execution_count": 1,
      "metadata": {
        "colab": {
          "base_uri": "https://localhost:8080/"
        },
        "id": "Ho6ihx3VgGvu",
        "outputId": "026c526f-585a-4997-f972-3745d84e2940"
      },
      "outputs": [
        {
          "output_type": "stream",
          "name": "stdout",
          "text": [
            "Looking in indexes: https://pypi.org/simple, https://us-python.pkg.dev/colab-wheels/public/simple/\n",
            "Requirement already satisfied: bs4 in /usr/local/lib/python3.8/dist-packages (0.0.1)\n",
            "Requirement already satisfied: beautifulsoup4 in /usr/local/lib/python3.8/dist-packages (from bs4) (4.6.3)\n"
          ]
        }
      ],
      "source": [
        "pip install -U bs4"
      ]
    },
    {
      "cell_type": "code",
      "source": [
        "import pandas as pd\n",
        "from bs4 import BeautifulSoup\n",
        "import requests\n"
      ],
      "metadata": {
        "id": "RUuvNrLSjJc4"
      },
      "execution_count": 2,
      "outputs": []
    },
    {
      "cell_type": "code",
      "source": [
        "f = requests.get('https://www.zillow.com/')"
      ],
      "metadata": {
        "id": "pqm19eMZkmsg"
      },
      "execution_count": 4,
      "outputs": []
    },
    {
      "cell_type": "code",
      "source": [
        "soup = BeautifulSoup(f.text)"
      ],
      "metadata": {
        "id": "BP_Yjy9npV14"
      },
      "execution_count": 5,
      "outputs": []
    },
    {
      "cell_type": "code",
      "source": [
        "print(soup.get_text())"
      ],
      "metadata": {
        "colab": {
          "base_uri": "https://localhost:8080/"
        },
        "id": "-KyRgHDypj5a",
        "outputId": "522671b2-2684-4b77-8b4c-00f2110d1d2d"
      },
      "execution_count": 6,
      "outputs": [
        {
          "output_type": "stream",
          "name": "stdout",
          "text": [
            "\n",
            "        window._pxAppId = 'PXHYx10rg3';\n",
            "        window._pxJsClientSrc = '/HYx10rg3/init.js';\n",
            "        window._pxHostUrl = '/HYx10rg3/xhr';\n",
            "        window._pxFirstPartyEnabled = true;\n",
            "        window._pxreCaptchaTheme='light';\n",
            "    \n",
            "\n",
            "        function getQueryString(name, url) {\n",
            "            if (!url) url = window.location.href;\n",
            "            name = name.replace(/[\\[\\]]/g, \"\\\\$&\");\n",
            "            var regex = new RegExp(\"[?&]\" + name + \"(=([^&#]*)|&|#|$)\"),\n",
            "                results = regex.exec(url);\n",
            "            if (!results) return null;\n",
            "            if (!results[2]) return '';\n",
            "            return decodeURIComponent(results[2].replace(/\\+/g, \" \"));\n",
            "        }\n",
            "        document.addEventListener(\"DOMContentLoaded\", function(e) {\n",
            "            var uuidVerifyRegExp = /^\\{?[0-9a-fA-F]{8}-[0-9a-fA-F]{4}-[0-9a-fA-F]{4}-[0-9a-fA-F]{4}-[0-9a-fA-F]{12}\\}?$/i;\n",
            "            document.getElementById(\"uuid\").innerText = \"UUID: \" + uuidVerifyRegExp.exec(getQueryString(\"uuid\"));\n",
            "        });\n",
            "\n",
            "        function handleCaptcha(response) {\n",
            "            var vid = getQueryString(\"vid\"); // getQueryString is implemented below\n",
            "            var uuid = getQueryString(\"uuid\");\n",
            "            var name = '_pxCaptcha';\n",
            "            var cookieValue =  btoa(JSON.stringify({r:response,v:vid,u:uuid}));\n",
            "            var cookieParts = [name, '=', cookieValue, '; path=/'];\n",
            "            cookieParts.push('; domain=' + window.location.hostname);\n",
            "            cookieParts.push('; max-age=10');//expire after 10 seconds\n",
            "            document.cookie = cookieParts.join('');\n",
            "            var originalURL = getOriginalUrl(\"url\");\n",
            "            var originalHost = window.location.host;\n",
            "            var newHref = window.location.protocol + \"//\" + originalHost;\n",
            "            originalURL = originalURL || '/';\n",
            "            newHref = newHref + originalURL;\n",
            "            window.location.href = newHref;\n",
            "        }\n",
            "\n",
            "        function getOriginalUrl(name) {\n",
            "            var url = getQueryString(name);\n",
            "            if (!url) return null;\n",
            "            var regExMatcher = new RegExp(\"(([^&#@]*)|&|#|$)\");\n",
            "            var matches = regExMatcher.exec(url);\n",
            "            if (!matches) return null;\n",
            "            return matches[0];\n",
            "        }\n",
            "    Please verify you're a human to continue.\n"
          ]
        }
      ]
    },
    {
      "cell_type": "code",
      "source": [
        "for i in soup.findAll(\"li\",{\"itemprop\":\"offers\"}):\n",
        "    print((i.find(\"span\",{\"itemprop\":\"price\"})).text)"
      ],
      "metadata": {
        "id": "x4ZB6AzJwoyW"
      },
      "execution_count": 42,
      "outputs": []
    }
  ]
}